{
 "cells": [
  {
   "cell_type": "code",
   "execution_count": 3,
   "metadata": {},
   "outputs": [
    {
     "name": "stdout",
     "output_type": "stream",
     "text": [
      "\n",
      "Dataset created in C:\\Users\\Shak3/nilearn_data\\oasis1\n",
      "\n",
      "Downloading data from https://www.nitrc.org/frs/download.php/6359/archive.tgz ...\n"
     ]
    },
    {
     "name": "stderr",
     "output_type": "stream",
     "text": [
      "Downloaded 630472985 of 630472985 bytes (100.0%,    0.0s remaining) ...done. (198 seconds, 3 min)\n",
      "Extracting data from C:\\Users\\Shak3/nilearn_data\\oasis1\\3686e3bf317ddf20cfaed66aa208b8af\\archive.tgz..... done.\n"
     ]
    },
    {
     "name": "stdout",
     "output_type": "stream",
     "text": [
      "First gray-matter anatomy image (3D) is located at: C:\\Users\\Shak3/nilearn_data\\oasis1\\OAS1_0001_MR1\\mwc1OAS1_0001_MR1_mpr_anon_fslswapdim_bet.nii.gz\n",
      "First white-matter anatomy image (3D) is located at: C:\\Users\\Shak3/nilearn_data\\oasis1\\OAS1_0001_MR1\\mwc2OAS1_0001_MR1_mpr_anon_fslswapdim_bet.nii.gz\n"
     ]
    }
   ],
   "source": [
    "import matplotlib.pyplot as plt\n",
    "from nilearn import datasets\n",
    "\n",
    "n_subjects = 10  # more subjects requires more memory\n",
    "\n",
    "oasis_dataset = datasets.fetch_oasis_vbm(n_subjects=n_subjects, dartel_version=False, verbose=1)\n",
    "gray_matter_map_filenames = oasis_dataset.gray_matter_maps\n",
    "age = oasis_dataset.ext_vars['age'].astype(float)\n",
    "\n",
    "# print basic information on the dataset\n",
    "print('First gray-matter anatomy image (3D) is located at: %s' %\n",
    "      oasis_dataset.gray_matter_maps[0])  # 3D data\n",
    "print('First white-matter anatomy image (3D) is located at: %s' %\n",
    "      oasis_dataset.white_matter_maps[0])  # 3D data"
   ]
  },
  {
   "cell_type": "markdown",
   "metadata": {},
   "source": [
    "1.) For each individual, all available 3 or 4 volumetric 3D MR brain images were motion-corrected, and coregistered to form an averaged 3D image."
   ]
  },
  {
   "cell_type": "markdown",
   "metadata": {},
   "source": [
    "2.) Then, those 3D images were spatially normalized to the Talairach coordinate space and brain-masked."
   ]
  },
  {
   "cell_type": "markdown",
   "metadata": {},
   "source": [
    "3.) CDR was interpreted as the target (label)... In this study, we chose two types of CDR, i.e., the subjects with CDR of 0 were considered as NC and subjects with CDR of 1 were considered as AD."
   ]
  },
  {
   "cell_type": "markdown",
   "metadata": {},
   "source": [
    "4.) Calculating eigenbrains on the entire brain was difficult. Instead, we proposed a simplified method that selected several key slices that capture structures indicative of AD from NC. The procedure was as follows: we established the ICV $v$ as\n",
    "\n",
    "$$v(k)=\\lvert\\lvert\\mu_{\\textrm{AD}}(\\textrm{Slice}=k)−\\mu_{\\textrm{NC}}(\\textrm{Slice}=k)\\lvert\\lvert^2$$\n",
    "\n",
    "where $k$ was the index of key slice, $\\mu_{\\textrm{AD}}$ and $\\mu_{\\textrm{NC}}$ represented the mean of gray-level values of the $k$-th slice of AD subjects and NC subjects, respectively, $\\lvert\\lvert\\cdot\\lvert\\lvert^2$ represented the l2-norm. Then, we selected the key-slices of ICV larger than 50% of maximum ICV, with 10× undersampling factor (i.e., every 10 slices).\n",
    "\n",
    "In addition, the slice direction can be chosen as either axial, sagittal, or coronal. Usually coronal direction will give a clearer view than the other two directions... If we used axial or sagittal slice, then we may need to record two or even more slices to cover those tissues. Therefore, we chose the coronal direction for key slice selection, with the aim of recording only one slice."
   ]
  },
  {
   "cell_type": "markdown",
   "metadata": {},
   "source": [
    "5.0) Eigenbrain is carried out by PCA, which is a statistical procedure that uses an orthogonal transformation to convert a set of observations of possibly correlated variables into a set of values of linearly uncorrelated variables called principal components (PC). For 2D images the PCs are extended naturally to the 2D eigenbrains."
   ]
  }
 ],
 "metadata": {
  "kernelspec": {
   "display_name": "Python 3",
   "language": "python",
   "name": "python3"
  },
  "language_info": {
   "codemirror_mode": {
    "name": "ipython",
    "version": 3
   },
   "file_extension": ".py",
   "mimetype": "text/x-python",
   "name": "python",
   "nbconvert_exporter": "python",
   "pygments_lexer": "ipython3",
   "version": "3.6.2"
  }
 },
 "nbformat": 4,
 "nbformat_minor": 2
}
